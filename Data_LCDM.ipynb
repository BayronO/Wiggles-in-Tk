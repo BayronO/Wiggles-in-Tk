{
 "cells": [
  {
   "cell_type": "markdown",
   "id": "ebdb0bad-bb55-488c-9422-e290bb97000a",
   "metadata": {
    "tags": []
   },
   "source": [
    "# $\\Lambda\\mathrm{CDM}$"
   ]
  },
  {
   "cell_type": "markdown",
   "id": "7f6dab05-a97b-40fa-9ecb-24d4dcdb6149",
   "metadata": {},
   "source": [
    "## $\\mathrm{Training~Data:~} T(k| h, \\omega_b, \\omega_m)$"
   ]
  },
  {
   "cell_type": "code",
   "execution_count": 6,
   "id": "76a60891-196b-4b8b-8cb3-323717efe105",
   "metadata": {},
   "outputs": [],
   "source": [
    "from classy import Class\n",
    "import numpy as np\n",
    "import os"
   ]
  },
  {
   "cell_type": "code",
   "execution_count": 7,
   "id": "fa66d5dc-e136-46e7-8668-09a566968863",
   "metadata": {},
   "outputs": [],
   "source": [
    "# Grid of 4x4x4\n",
    "obh2vals = np.linspace(0.0214,0.0234, 4)\n",
    "omh2vals = np.linspace(0.13, 0.15, 4)\n",
    "hvals = np.linspace(0.65, 0.75, 4)"
   ]
  },
  {
   "cell_type": "code",
   "execution_count": 8,
   "id": "1d2a9ea6-2121-408b-90a7-f3e8aec9407b",
   "metadata": {
    "scrolled": true
   },
   "outputs": [
    {
     "name": "stdout",
     "output_type": "stream",
     "text": [
      "Now running class for model  0   0   0\n",
      "Now running class for model  0   0   1\n",
      "Now running class for model  0   0   2\n",
      "Now running class for model  0   0   3\n",
      "Now running class for model  0   1   0\n",
      "Now running class for model  0   1   1\n",
      "Now running class for model  0   1   2\n",
      "Now running class for model  0   1   3\n",
      "Now running class for model  0   2   0\n",
      "Now running class for model  0   2   1\n",
      "Now running class for model  0   2   2\n",
      "Now running class for model  0   2   3\n",
      "Now running class for model  0   3   0\n",
      "Now running class for model  0   3   1\n",
      "Now running class for model  0   3   2\n",
      "Now running class for model  0   3   3\n",
      "Now running class for model  1   0   0\n",
      "Now running class for model  1   0   1\n",
      "Now running class for model  1   0   2\n",
      "Now running class for model  1   0   3\n",
      "Now running class for model  1   1   0\n",
      "Now running class for model  1   1   1\n",
      "Now running class for model  1   1   2\n",
      "Now running class for model  1   1   3\n",
      "Now running class for model  1   2   0\n",
      "Now running class for model  1   2   1\n",
      "Now running class for model  1   2   2\n",
      "Now running class for model  1   2   3\n",
      "Now running class for model  1   3   0\n",
      "Now running class for model  1   3   1\n",
      "Now running class for model  1   3   2\n",
      "Now running class for model  1   3   3\n",
      "Now running class for model  2   0   0\n",
      "Now running class for model  2   0   1\n",
      "Now running class for model  2   0   2\n",
      "Now running class for model  2   0   3\n",
      "Now running class for model  2   1   0\n",
      "Now running class for model  2   1   1\n",
      "Now running class for model  2   1   2\n",
      "Now running class for model  2   1   3\n",
      "Now running class for model  2   2   0\n",
      "Now running class for model  2   2   1\n",
      "Now running class for model  2   2   2\n",
      "Now running class for model  2   2   3\n",
      "Now running class for model  2   3   0\n",
      "Now running class for model  2   3   1\n",
      "Now running class for model  2   3   2\n",
      "Now running class for model  2   3   3\n",
      "Now running class for model  3   0   0\n",
      "Now running class for model  3   0   1\n",
      "Now running class for model  3   0   2\n",
      "Now running class for model  3   0   3\n",
      "Now running class for model  3   1   0\n",
      "Now running class for model  3   1   1\n",
      "Now running class for model  3   1   2\n",
      "Now running class for model  3   1   3\n",
      "Now running class for model  3   2   0\n",
      "Now running class for model  3   2   1\n",
      "Now running class for model  3   2   2\n",
      "Now running class for model  3   2   3\n",
      "Now running class for model  3   3   0\n",
      "Now running class for model  3   3   1\n",
      "Now running class for model  3   3   2\n",
      "Now running class for model  3   3   3\n"
     ]
    }
   ],
   "source": [
    "# To store data\n",
    "Store = []\n",
    "\n",
    "for i in range(len(obh2vals)):\n",
    "    for j in range(len(omh2vals)):\n",
    "        for l in range(len(hvals)):\n",
    "            params = {\n",
    "                'output': 'mTk', \n",
    "                'h': hvals[l], \n",
    "                'omega_b': obh2vals[i], \n",
    "                'omega_cdm': omh2vals[j] - obh2vals[i],\n",
    "                #'P_k_max_h/Mpc': 9.0,\n",
    "            }\n",
    "            print(\"Now running class for model \",i,\" \",j,\" \", l)\n",
    "            \n",
    "            cosmo = Class()\n",
    "            cosmo.set(params)\n",
    "            cosmo.compute()\n",
    "            perturbations_z0 = cosmo.get_transfer()\n",
    "            \n",
    "            k = perturbations_z0['k (h/Mpc)'] \n",
    "            omega_b = np.array([obh2vals[i] for m in range(len(k))])\n",
    "            omega_m = np.array([omh2vals[j] for m in range(len(k))])\n",
    "            h = np.array([hvals[l] for m in range(len(k))])\n",
    "            phi = perturbations_z0['phi']\n",
    "            \n",
    "            datadeltak = np.array(list(zip(k, h, omega_b, omega_m, phi)))\n",
    "            Store = np.append(Store, datadeltak, axis = None)\n",
    "Data = Store.reshape(int(len(Store)/5), 5)"
   ]
  },
  {
   "cell_type": "code",
   "execution_count": 9,
   "id": "360b8133-a79f-4b43-bb32-850a5c61b8d6",
   "metadata": {},
   "outputs": [],
   "source": [
    "np.savetxt('Data/Transfer_Function_h_omegab_omegam.txt', Data)"
   ]
  },
  {
   "cell_type": "code",
   "execution_count": 10,
   "id": "f853afed-4ddd-49a2-9118-ca33916a1412",
   "metadata": {},
   "outputs": [
    {
     "name": "stdout",
     "output_type": "stream",
     "text": [
      "Length of arrays:  114  data points for each model...\n",
      "64.0\n"
     ]
    }
   ],
   "source": [
    "print(\"Length of arrays: \", len(k), \" data points for each model...\")\n",
    "print(Data.shape[0]/len(k))"
   ]
  },
  {
   "cell_type": "markdown",
   "id": "c63ea9c7-2fd4-446a-bb57-a9456df62f00",
   "metadata": {},
   "source": [
    "## $\\mathrm{Test~Data:~} P(k| h, \\omega_b, \\omega_m, n_s, A_s)$"
   ]
  },
  {
   "cell_type": "code",
   "execution_count": 4,
   "id": "729a62b5-2fe1-4ef5-8d7c-7615a5492c74",
   "metadata": {},
   "outputs": [],
   "source": [
    "import numpy as np\n",
    "import matplotlib.pyplot as plt\n",
    "from scipy import stats\n",
    "import sys\n",
    "import os"
   ]
  },
  {
   "cell_type": "code",
   "execution_count": 5,
   "id": "1e3c83e0-612c-4032-8c45-5349ed1f0a30",
   "metadata": {},
   "outputs": [],
   "source": [
    "def get_param_samples(n, seed):\n",
    "    \"\"\"\n",
    "    Get n samples from a latin hypercube from uniform prior\n",
    "    \n",
    "    Args:\n",
    "        :n (int): Number of sets of cosmological samples to obtain\n",
    "        :seed (int): The random seems for the latin hypercube\n",
    "        \n",
    "    Returns:\n",
    "        :cosmo_params (np.ndarray): Array of cosmological parameters of shape (n, number of parameters).\n",
    "            The parameters are ordered h, omega_b, omega_m, ns, 10^9 As\n",
    "    \"\"\"\n",
    "    \n",
    "    all_prior = [[0.65, 0.73],    # h\n",
    "                 [0.0214, 0.0234],  # omega_b \n",
    "                 [0.13, 0.15],  # omega_m \n",
    "                 [0.92, 1.00],  # ns\n",
    "                 [1.7, 2.5],  # As 10⁹\n",
    "                ]\n",
    "\n",
    "    # Generate samples\n",
    "    d = len(all_prior)\n",
    "    lh_sampler = stats.qmc.LatinHypercube(d, seed=seed)\n",
    "    cosmo_params = lh_sampler.random(n)\n",
    "    for i in range(d):\n",
    "        cosmo_params[:,i] = all_prior[i][0] + (all_prior[i][1] - all_prior[i][0]) * cosmo_params[:,i]\n",
    "        \n",
    "    return cosmo_params"
   ]
  },
  {
   "cell_type": "code",
   "execution_count": 6,
   "id": "29a18fa3-79f9-4928-83c5-0c41415e09e6",
   "metadata": {},
   "outputs": [],
   "source": [
    "#generate cosmological parameter samples\n",
    "thetas = get_param_samples(200, 4)\n",
    "\n",
    "#set up k values\n",
    "kmin = 1e-4\n",
    "kmax = 1.5\n",
    "nk = 200\n",
    "ks = np.logspace(np.log10(kmin), np.log10(kmax), nk)"
   ]
  },
  {
   "cell_type": "code",
   "execution_count": 7,
   "id": "0112be5f-fc88-4067-9ae3-23d4e4216601",
   "metadata": {},
   "outputs": [],
   "source": [
    "# set up the CLASS simulator for comparison\n",
    "from classy import Class\n",
    "from classy import CosmoComputationError\n",
    "import warnings\n",
    "\n",
    "def get_class_linear(k, h, omega_b, omega_m, ns, As_e9):\n",
    "    \"\"\"\n",
    "    Compute linear P(k) using class for the cosmology of interest\n",
    "    \n",
    "    Args:\n",
    "        :k (np.ndarray): k values in [h / Mpc]\n",
    "        :omega_b (float): baryonic reduced density parameter,\n",
    "        :omega_m (float): The z=0 total matter reduced density parameter,\n",
    "        :h (float): reduced Hubble constant\n",
    "        :ns (float): Spectral tilt of primordial power spectrum\n",
    "        :As_e9 (float): 10^9 times the amplitude of the primordial P(k)\n",
    "        \n",
    "    Returns:\n",
    "        :plin_class (np.ndarray): Linear power spectrum at corresponding k values [(Mpc/h)^3]\n",
    "    \"\"\"\n",
    "    \n",
    "    class_params = {\n",
    "        'h': h,\n",
    "        'omega_b': omega_b,\n",
    "        'omega_cdm': omega_m - omega_b,\n",
    "        'n_s': ns,\n",
    "        'A_s': As_e9*1.e-9,\n",
    "        'output': 'mPk',\n",
    "        'P_k_max_1/Mpc': k.max() * h,\n",
    "    }\n",
    "        \n",
    "    cosmo = Class()\n",
    "    cosmo.set(class_params)\n",
    "\n",
    "    try:\n",
    "        cosmo.compute()\n",
    "    except CosmoComputationError as e:\n",
    "        if \"DeltaNeff < deltaN[0]\" in str(e):\n",
    "            # set YHe to 0.25. Value is from https://arxiv.org/abs/1503.08146 and Plank 2018(Section 7.6.1) https://arxiv.org/abs/1807.06209\n",
    "            warnings.warn(f\"Adjust YHe to 0.25 due to CLASS CosmoComputationError for cosmology {class_params}.\")\n",
    "            class_params['YHe'] = 0.25\n",
    "            cosmo.set(class_params)\n",
    "            cosmo.compute()\n",
    "        else:\n",
    "            raise e\n",
    "\n",
    "    plin_class = np.array([cosmo.pk_lin(kk*h, 0) for kk in k]) * h ** 3\n",
    "\n",
    "    # Obtén sigma8 desde CLASS\n",
    "    sigma8 = cosmo.sigma8()\n",
    "    \n",
    "    # Memory cleanup for class\n",
    "    cosmo.struct_cleanup()\n",
    "    cosmo.empty()\n",
    "\n",
    "    return plin_class, sigma8"
   ]
  },
  {
   "cell_type": "code",
   "execution_count": 8,
   "id": "bb6e9239-3c8b-4ade-92c3-40070afb62bd",
   "metadata": {},
   "outputs": [],
   "source": [
    "output_dir = \"./Data/spectra_syren_new/\"\n",
    "os.makedirs(output_dir, exist_ok=True)\n",
    "\n",
    "plin_class = []\n",
    "sigma8_values = []\n",
    "\n",
    "# Calcular espectros y sigma8 para cada muestra\n",
    "for i, t in enumerate(thetas):\n",
    "    pk, sigma8 = get_class_linear(ks, *t)\n",
    "    plin_class.append(pk)\n",
    "    sigma8_values.append(sigma8)\n",
    "\n",
    "    fname = os.path.join(output_dir, f\"spectrum_{i + 1:03d}.txt\")\n",
    "    np.savetxt(fname, np.column_stack([ks, pk]), header=\"k  P(k)\", comments='')"
   ]
  },
  {
   "cell_type": "code",
   "execution_count": 6,
   "id": "641ab5ef-47b7-485e-ba7d-a5244d84c77e",
   "metadata": {},
   "outputs": [],
   "source": [
    "params = np.column_stack([thetas, sigma8_values])\n",
    "header = \"h omega_b omega_m ns 10^9As sigma8\"\n",
    "np.savetxt(\"./Data/cosmo_params_syren_new.txt\", params, header=header, comments='', fmt=\"%.8f\")"
   ]
  },
  {
   "cell_type": "markdown",
   "id": "8647d584-b21a-493d-870b-1d66527686ab",
   "metadata": {},
   "source": [
    "### $\\mathrm{Performance:~Ce~Sui~et~al}$"
   ]
  },
  {
   "cell_type": "code",
   "execution_count": 9,
   "id": "bd1577c8-69a8-44a1-ac04-ed1d5663a40b",
   "metadata": {},
   "outputs": [],
   "source": [
    "# Add the path to the symbolic_pofk module\n",
    "sys.path.append('/home/bayron/symbolic_pofk/symbolic_pofk')\n",
    "\n",
    "from linear_new import plin_new_emulated\n",
    "from syren_new import pnl_new_emulated"
   ]
  },
  {
   "cell_type": "code",
   "execution_count": 50,
   "id": "fd15340e-b715-4f37-8343-88e45e535563",
   "metadata": {},
   "outputs": [],
   "source": [
    "# define plot function for the test\n",
    "\n",
    "plt.rcParams.update({\n",
    "    \"text.usetex\": True,\n",
    "    \"font.family\": \"sans-serif\",\n",
    "    \"font.sans-serif\": \"Helvetica\",\n",
    "    \"font.size\": 16,\n",
    "    \"xtick.direction\": \"in\",\n",
    "    \"ytick.direction\": \"in\",\n",
    "    \"xtick.major.width\": 1,\n",
    "    \"ytick.major.width\": 1\n",
    "})\n",
    "\n",
    "def plot_diff(ks, preds, truth):\n",
    "    rela_diffs = (preds - truth) / truth\n",
    "    percentiles =  np.percentile(rela_diffs, [50-34-13.6,50-34, 50, 50+34,50+34+13.6], axis=0)\n",
    "    \n",
    "    fig, ax = plt.subplots(1,1,figsize=(10,5))\n",
    "    \n",
    "    ax.plot(ks, percentiles[2], color='black', linewidth=2)\n",
    "    ax.fill_between(ks, percentiles[0], percentiles[-1], color='tab:red', alpha=1, label=r'$2\\sigma$')\n",
    "    ax.fill_between(ks, percentiles[1], percentiles[-2], color='tab:blue', alpha=1, label=r'$1\\sigma$')\n",
    "    \n",
    "    ax.axhline(0, color='k', linestyle='--')\n",
    "    ax.axhline(0.01, color='k', linestyle='--')\n",
    "    ax.axhline(-0.01, color='k', linestyle='--')\n",
    "    \n",
    "    ax.set_xscale('log')\n",
    "    ax.set_xlim(ks[94],ks[-1])\n",
    "    ax.set_xlabel(r'$k~[h/\\mathrm{Mpc}]$')\n",
    "    ax.set_ylabel(r'$\\Delta P_\\mathrm{lin}/P_\\mathrm{lin, True}$')\n",
    "\n",
    "    ax.set_title(r'$\\mathrm{Ce~Sui~et~al}$')\n",
    "    \n",
    "    leg = ax.legend(loc='lower left', frameon=True)\n",
    "    leg.get_frame().set_edgecolor('black')\n",
    "    leg.get_frame().set_linewidth(1.2)\n",
    "\n",
    "    plt.savefig(\"CeSui_etal.pdf\", format=\"pdf\", bbox_inches='tight')\n",
    "    plt.tight_layout()\n",
    "    plt.show()"
   ]
  },
  {
   "cell_type": "code",
   "execution_count": 21,
   "id": "0e75a96b-3607-4333-a496-c3dc3cba38ae",
   "metadata": {},
   "outputs": [],
   "source": [
    "# Asumiendo thetas tiene forma: [10^9 As, Om, Ob, h, ns]\n",
    "thetas_SN = []\n",
    "\n",
    "for h, ob, om, ns, As in thetas:\n",
    "    Ob = ob / h**2\n",
    "    Om = om / h**2\n",
    "    thetas_SN.append([As, Om, Ob, h, ns])\n",
    "\n",
    "thetas_SN = np.array(thetas_SN)"
   ]
  },
  {
   "cell_type": "code",
   "execution_count": 38,
   "id": "f243ab9f-a5eb-410e-93de-6d17eca0ec04",
   "metadata": {},
   "outputs": [
    {
     "name": "stdout",
     "output_type": "stream",
     "text": [
      "CPU times: user 25.9 ms, sys: 0 ns, total: 25.9 ms\n",
      "Wall time: 25.3 ms\n"
     ]
    }
   ],
   "source": [
    "%%time\n",
    "# Compute the linear power spectrum using emulator \n",
    "plin_preds = [plin_new_emulated(ks,*t, 0, -1, 0) for t in thetas_SN]"
   ]
  },
  {
   "cell_type": "code",
   "execution_count": 51,
   "id": "802d9148-bca7-4e4b-85a7-4a0264eb7cf9",
   "metadata": {},
   "outputs": [
    {
     "data": {
      "image/png": "[encoded data removed]",
      "text/plain": [
       "<Figure size 1000x500 with 1 Axes>"
      ]
     },
     "metadata": {},
     "output_type": "display_data"
    }
   ],
   "source": [
    "plin_preds = np.array(plin_preds)\n",
    "plin_class = np.array(plin_class)\n",
    "\n",
    "plot_diff(ks, plin_preds, plin_class)"
   ]
  },
  {
   "cell_type": "code",
   "execution_count": 41,
   "id": "987a0687-f543-471d-85f5-a3640d078917",
   "metadata": {},
   "outputs": [
    {
     "name": "stdout",
     "output_type": "stream",
     "text": [
      "Acc(CeSui) = 0.1864374350966926 %\n"
     ]
    }
   ],
   "source": [
    "# Only compute for k > 0.009 h/Mpc\n",
    "relative_errors = np.abs(1 - (plin_preds[:, 95:] / plin_class[:, 95:])) * 100\n",
    "mean_errors = np.mean(relative_errors, axis=1)\n",
    "global_mean_error = np.mean(relative_errors)\n",
    "print('Acc(CeSui) =', global_mean_error, '%')"
   ]
  },
  {
   "cell_type": "markdown",
   "id": "86646c95-f60f-49fe-bbc7-8cca6e25630f",
   "metadata": {},
   "source": [
    "## $\\mathrm{Data~for~} k_\\mathrm{eq}$"
   ]
  },
  {
   "cell_type": "code",
   "execution_count": 1,
   "id": "b150ddb7-76dc-4b8d-a072-243b0da46291",
   "metadata": {},
   "outputs": [],
   "source": [
    "import numpy as np\n",
    "from classy import Class\n",
    "import os"
   ]
  },
  {
   "cell_type": "code",
   "execution_count": 8,
   "id": "52382d8c-2ebd-4174-ba8b-14e2f6e27c73",
   "metadata": {},
   "outputs": [],
   "source": [
    "# Valores de referencia (centrales) para los parámetros\n",
    "h_ref = 0.65\n",
    "omega_b_ref = 0.0214\n",
    "omega_m_ref = 0.13\n",
    "ns_ref = 0.9\n",
    "As_e9_ref = 1.5\n",
    "\n",
    "# Definición de las grillas\n",
    "h_vals = np.linspace(0.65, 0.75, 25)\n",
    "omega_b_vals = np.linspace(0.0214, 0.0234, 25)\n",
    "omega_m_vals = np.linspace(0.13, 0.15, 25)\n",
    "ns_vals = np.linspace(0.9, 1.0, 25)\n",
    "As_vals = np.linspace(1.5, 2.5, 25)\n",
    "\n",
    "#set up k values\n",
    "kmin = 1e-4\n",
    "kmax = 1.5\n",
    "nk = 150\n",
    "ks = np.logspace(np.log10(kmin), np.log10(kmax), nk)"
   ]
  },
  {
   "cell_type": "code",
   "execution_count": 10,
   "id": "b2350783-7a0a-4152-b121-b13c9d476780",
   "metadata": {},
   "outputs": [],
   "source": [
    "# Carpeta de salida\n",
    "output_dir = \"./Data/Spectra_keq\"\n",
    "os.makedirs(output_dir, exist_ok=True)"
   ]
  },
  {
   "cell_type": "code",
   "execution_count": 11,
   "id": "aaab334a-9e08-457e-8d8f-1fea05cc8324",
   "metadata": {},
   "outputs": [],
   "source": [
    "# Función para calcular espectro y guardar\n",
    "def get_class_Pk(name, h, omega_b, omega_m, ns, As_e9):\n",
    "    cosmo = Class()\n",
    "    params = {\n",
    "        'h': h,\n",
    "        'omega_b': omega_b,\n",
    "        'omega_cdm': omega_m - omega_b,\n",
    "        'n_s': ns,\n",
    "        'A_s': As_e9 * 1e-9,\n",
    "        'output': 'mPk',\n",
    "        'P_k_max_1/Mpc': ks.max() * h\n",
    "    }\n",
    "    cosmo.set(params)\n",
    "    cosmo.compute()\n",
    "    pk_vals = np.array([cosmo.pk_lin(k * h, 0) for k in ks]) * h ** 3\n",
    "    cosmo.struct_cleanup()\n",
    "    cosmo.empty()\n",
    "\n",
    "    np.savetxt(f\"{output_dir}/spectrum_{name}.txt\", np.column_stack((ks, pk_vals)), fmt=\"%.8e\")"
   ]
  },
  {
   "cell_type": "code",
   "execution_count": 12,
   "id": "647a17fc-ccc5-4a3c-900c-9e9c6b35998a",
   "metadata": {},
   "outputs": [],
   "source": [
    "# Variar un parámetro a la vez\n",
    "for i, h in enumerate(h_vals):\n",
    "    get_class_Pk(f\"h_{i}\", h, omega_b_ref, omega_m_ref, ns_ref, As_e9_ref)\n",
    "\n",
    "for i, omega_b in enumerate(omega_b_vals):\n",
    "    get_class_Pk(f\"omega_b_{i}\", h_ref, omega_b, omega_m_ref, ns_ref, As_e9_ref)\n",
    "\n",
    "for i, omega_m in enumerate(omega_m_vals):\n",
    "    get_class_Pk(f\"omega_m_{i}\", h_ref, omega_b_ref, omega_m, ns_ref, As_e9_ref)\n",
    "\n",
    "for i, ns in enumerate(ns_vals):\n",
    "    get_class_Pk(f\"ns_{i}\", h_ref, omega_b_ref, omega_m_ref, ns, As_e9_ref)\n",
    "\n",
    "for i, As_e9 in enumerate(As_vals):\n",
    "    get_class_Pk(f\"As_{i}\", h_ref, omega_b_ref, omega_m_ref, ns_ref, As_e9)"
   ]
  }
 ],
 "metadata": {
  "kernelspec": {
   "display_name": "Python 3 (ipykernel)",
   "language": "python",
   "name": "python3"
  },
  "language_info": {
   "codemirror_mode": {
    "name": "ipython",
    "version": 3
   },
   "file_extension": ".py",
   "mimetype": "text/x-python",
   "name": "python",
   "nbconvert_exporter": "python",
   "pygments_lexer": "ipython3",
   "version": "3.12.7"
  }
 },
 "nbformat": 4,
 "nbformat_minor": 5
}
