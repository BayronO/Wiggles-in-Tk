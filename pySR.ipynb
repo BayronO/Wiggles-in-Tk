{
 "cells": [
  {
   "cell_type": "markdown",
   "id": "ad705eb2-c41a-4f72-abd1-a98231e294de",
   "metadata": {},
   "source": [
    "# $P''(k_\\mathrm{eq})$"
   ]
  },
  {
   "cell_type": "code",
   "execution_count": 1,
   "id": "d233a579-2a21-4254-9c9d-2cd43df0ad59",
   "metadata": {},
   "outputs": [
    {
     "name": "stdout",
     "output_type": "stream",
     "text": [
      "Detected IPython. Loading juliacall extension. See https://juliapy.github.io/PythonCall.jl/stable/compat/#IPython\n"
     ]
    }
   ],
   "source": [
    "import pandas as pd\n",
    "import numpy as np\n",
    "from pysr import PySRRegressor\n",
    "from sklearn.metrics import mean_absolute_percentage_error\n",
    "\n",
    "# Cargar el CSV exportado desde Mathematica\n",
    "df = pd.read_csv(\"./Data/DDPkeq_Sata.csv\", header=None)\n",
    "df.columns = [\"h\", \"omega_b\", \"omega_m\", \"ns\", \"As\", \"keq\", \"P2keq\"]\n",
    "\n",
    "# Variables independientes (features)\n",
    "X = df[[\"h\", \"omega_b\", \"omega_m\", \"ns\", \"As\"]].values\n",
    "\n",
    "# Variable dependiente (etiqueta)\n",
    "y = np.log10(-df[\"P2keq\"].values)  # Aplicamos log10 del valor absoluto\n"
   ]
  },
  {
   "cell_type": "code",
   "execution_count": null,
   "id": "21a6c9d4-a58e-45aa-a106-1cc2b1824402",
   "metadata": {
    "scrolled": true
   },
   "outputs": [],
   "source": [
    "model = PySRRegressor(\n",
    "    niterations=5000,\n",
    "    binary_operators=[\"+\", \"-\", \"*\", \"/\", \"^\"],\n",
    "    unary_operators=[\"exp\"],\n",
    "    extra_sympy_mappings={\"square\": lambda x: x**2, \"cube\": lambda x: x**3},\n",
    "    elementwise_loss=\"loss(x, y) = (x - y)^2\",\n",
    "    model_selection=\"best\",  # mejor expresión según error + complejidad\n",
    "    maxsize=50,\n",
    "    verbosity=1,\n",
    ")\n",
    "\n",
    "model.fit(X, y)"
   ]
  },
  {
   "cell_type": "code",
   "execution_count": null,
   "id": "518e9cc1-cbd4-4a45-979f-bd8216359b64",
   "metadata": {},
   "outputs": [],
   "source": [
    "y_pred = model.predict(X)\n",
    "mape = mean_absolute_percentage_error(y, y_pred) * 100\n",
    "print(f\"Error porcentual medio: {mape:.3f}%\")"
   ]
  },
  {
   "cell_type": "code",
   "execution_count": null,
   "id": "ca21751e-3da8-4fd9-99d6-975698ec46fb",
   "metadata": {},
   "outputs": [],
   "source": []
  }
 ],
 "metadata": {
  "kernelspec": {
   "display_name": "Python 3 (ipykernel)",
   "language": "python",
   "name": "python3"
  },
  "language_info": {
   "codemirror_mode": {
    "name": "ipython",
    "version": 3
   },
   "file_extension": ".py",
   "mimetype": "text/x-python",
   "name": "python",
   "nbconvert_exporter": "python",
   "pygments_lexer": "ipython3",
   "version": "3.12.7"
  }
 },
 "nbformat": 4,
 "nbformat_minor": 5
}
